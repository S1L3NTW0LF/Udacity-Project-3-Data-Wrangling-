{
 "cells": [
  {
   "cell_type": "markdown",
   "metadata": {},
   "source": [
    "## Reporting: wrangle_report"
   ]
  },
  {
   "cell_type": "markdown",
   "metadata": {},
   "source": [
    "### Data Gathering"
   ]
  },
  {
   "cell_type": "markdown",
   "metadata": {},
   "source": [
    "For the Data gathering process first a ‘twitter-archived-enhanced.csv’ file was downloaded manually. After that using the requests module data was retrieved and then written to a new file called ‘image_predictions.tsv.’ This file was then opened. For the last step data was gathered using the Twitter API as json data. This data was then read from a file line by line to later be stored in a dataframe. "
   ]
  },
  {
   "cell_type": "markdown",
   "metadata": {},
   "source": [
    "### Assessing Data"
   ]
  },
  {
   "cell_type": "markdown",
   "metadata": {},
   "source": [
    "#### Quality"
   ]
  },
  {
   "cell_type": "markdown",
   "metadata": {},
   "source": [
    "For the Assessing Data it was checked both visually and programmatically. It was checked for completeness, whether all the data was there, validity, accuracy, and consistency. It was noted that some of the tweets needed to be removed because they had been retweeted, there were incorrect values that were not dog names such as ‘a’, ‘an’, ‘such’, ‘quiet’, etc. Many of the datatypes were wrong as well. The columns with timestamps were strings instead of datetime objects and not all the id columns were int datatypes, but floats. "
   ]
  },
  {
   "cell_type": "markdown",
   "metadata": {},
   "source": [
    "#### Tidiness"
   ]
  },
  {
   "cell_type": "markdown",
   "metadata": {},
   "source": [
    "For the tidiness issues in the ‘df_archive’ which was the dataframe created from the ‘twitter-archived-enhanced.csv’ there were columns ‘doggo’, ‘floofer’, ‘puppo’, and ‘pupper’ that all referred to the same variable and needed to be combined. For the second tidiness issue all the data for these tweets was spread out in three separate dataframes and needed to be combined into one."
   ]
  },
  {
   "cell_type": "markdown",
   "metadata": {},
   "source": [
    "### Cleaning"
   ]
  },
  {
   "cell_type": "markdown",
   "metadata": {},
   "source": [
    "For cleaning the data first, the ‘doggo’, ‘floofer’, ‘puppo’ and ‘pupper’ data was combined into a single column called ‘dog_type’. The 4 columns were then deleted. Next all three tables were joined together by setting the index for each table to ‘tweet_id’ and then joining the tables. After all the tables were joined the index was reset so to access a single row it did not require typing in a long arbitrary number which would have been the ‘tweet_id.’  Next the ‘name’ column was searched for more random words using the sample function to go through 20 at a time to find as many incorrect values as possible. After that, all the incorrect values were removed and replaced as null values. After that, any tweets that had non-null values for ‘retweeted_status_id’ were removed. Lastly all the datatypes that needed fixing were changed to the appropriate datatype. "
   ]
  }
 ],
 "metadata": {
  "kernelspec": {
   "display_name": "Python 3",
   "language": "python",
   "name": "python3"
  },
  "language_info": {
   "codemirror_mode": {
    "name": "ipython",
    "version": 3
   },
   "file_extension": ".py",
   "mimetype": "text/x-python",
   "name": "python",
   "nbconvert_exporter": "python",
   "pygments_lexer": "ipython3",
   "version": "3.6.3"
  }
 },
 "nbformat": 4,
 "nbformat_minor": 2
}
